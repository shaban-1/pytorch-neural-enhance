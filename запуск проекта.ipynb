{
  "cells": [
    {
      "cell_type": "code",
      "source": [
        "# 1. Клонируем репозиторий\n",
        "!git clone https://github.com/proceduralia/neural_enhance\n",
        "%cd neural_enhance\n",
        "\n",
        "# 2. Устанавливаем зависимости\n",
        "!pip install  rawpy tensorboardX decouple\n",
        "\n",
        "# 3. Фиксируем ошибку PIL (если есть)\n",
        "!sed -i 's/Image.ANTIALIAS/Image.LANCZOS/g' /content/neural_enhance/scrape_fivek.py\n",
        "\n",
        "# 4. Создаем директорию для данных\n",
        "!mkdir -p data\n",
        "# 5.\n",
        "!python scrape_fivek.py --base_dir data --limit_number 15\n",
        "# 6.\n",
        "!python main.py --model_type can32 --loss l1nima --data_path data\n",
        "# 7.\n",
        "!python evaluations.py --model_type can32 --image_path /content/neural_enhance/data/expert0/0.png --final_dir /content/neural_enhance/final_test/"
      ],
      "metadata": {
        "id": "4ctWLYq8XSaf",
        "outputId": "90c9b7ae-928a-489f-a64b-2ed9627e3669",
        "colab": {
          "base_uri": "https://localhost:8080/"
        }
      },
      "execution_count": null,
      "outputs": [
        {
          "output_type": "stream",
          "name": "stdout",
          "text": [
            "Cloning into 'neural_enhance'...\n",
            "^C\n",
            "[Errno 2] No such file or directory: 'neural_enhance'\n",
            "/content/neural_enhance\n",
            "Requirement already satisfied: rawpy in /usr/local/lib/python3.11/dist-packages (0.24.0)\n",
            "Requirement already satisfied: tensorboardX in /usr/local/lib/python3.11/dist-packages (2.6.2.2)\n",
            "Collecting decouple\n",
            "  Using cached decouple-0.0.7-py3-none-any.whl\n",
            "Requirement already satisfied: numpy>=1.26.0 in /usr/local/lib/python3.11/dist-packages (from rawpy) (1.26.4)\n",
            "Requirement already satisfied: packaging in /usr/local/lib/python3.11/dist-packages (from tensorboardX) (24.2)\n",
            "Requirement already satisfied: protobuf>=3.20 in /usr/local/lib/python3.11/dist-packages (from tensorboardX) (4.25.6)\n",
            "Installing collected packages: decouple\n",
            "Successfully installed decouple-0.0.7\n",
            "Traceback (most recent call last):\n",
            "  File \"/content/neural_enhance/scrape_fivek.py\", line 22, in <module>\n",
            "    import pandas as pd\n",
            "  File \"/usr/local/lib/python3.11/dist-packages/pandas/__init__.py\", line 14, in <module>\n",
            "    __import__(_dependency)\n",
            "  File \"/usr/local/lib/python3.11/dist-packages/numpy/__init__.py\", line 130, in <module>\n",
            "    from numpy.__config__ import show as show_config\n",
            "  File \"/usr/local/lib/python3.11/dist-packages/numpy/__config__.py\", line 4, in <module>\n",
            "    from numpy.core._multiarray_umath import (\n",
            "  File \"/usr/local/lib/python3.11/dist-packages/numpy/core/__init__.py\", line 101, in <module>\n",
            "    from . import _add_newdocs_scalars\n",
            "  File \"<frozen importlib._bootstrap>\", line 1173, in _find_and_load\n",
            "  File \"<frozen importlib._bootstrap>\", line 165, in __init__\n",
            "KeyboardInterrupt\n",
            "^C\n",
            "Traceback (most recent call last):\n",
            "  File \"/content/neural_enhance/main.py\", line 15, in <module>\n",
            "    from loss import ColorSSIM, NimaLoss\n",
            "  File \"/content/neural_enhance/loss.py\", line 4, in <module>\n",
            "    from nima.inference.inference_model import InferenceModel\n",
            "  File \"/content/neural_enhance/nima/inference/inference_model.py\", line 4, in <module>\n",
            "    from decouple import config\n",
            "ImportError: cannot import name 'config' from 'decouple' (/usr/local/lib/python3.11/dist-packages/decouple/__init__.py)\n",
            "Namespace(cuda=False, cuda_idx=1, logdir='log', image_path='/content/neural_enhance/data/expert0/0.png', run_tag='evaluation', final_dir='/content/neural_enhance/final_test/', model_type='can32', data_path='/home/iacv3_1/fivek')\n",
            "You should run with CUDA.\n",
            "Loading model can32actual_.png\n",
            "/content/neural_enhance/evaluations.py:77: FutureWarning: You are using `torch.load` with `weights_only=False` (the current default value), which uses the default pickle module implicitly. It is possible to construct malicious pickle data which will execute arbitrary code during unpickling (See https://github.com/pytorch/pytorch/blob/main/SECURITY.md#untrusted-models for more details). In a future release, the default value for `weights_only` will be flipped to `True`. This limits the functions that could be executed during unpickling. Arbitrary objects will no longer be allowed to be loaded via this mode unless they are explicitly allowlisted by the user via `torch.serialization.add_safe_globals`. We recommend you start setting `weights_only=True` for any use case where you don't have full control of the loaded file. Please open an issue on GitHub for any issues related to this experimental feature.\n",
            "  model.load_state_dict(torch.load(os.path.join(opt.final_dir, model_name), map_location=lambda storage, loc: storage))\n",
            "Traceback (most recent call last):\n",
            "  File \"/content/neural_enhance/evaluations.py\", line 77, in <module>\n",
            "    model.load_state_dict(torch.load(os.path.join(opt.final_dir, model_name), map_location=lambda storage, loc: storage))\n",
            "                          ^^^^^^^^^^^^^^^^^^^^^^^^^^^^^^^^^^^^^^^^^^^^^^^^^^^^^^^^^^^^^^^^^^^^^^^^^^^^^^^^^^^^^^^^^^^^^^\n",
            "  File \"/usr/local/lib/python3.11/dist-packages/torch/serialization.py\", line 1384, in load\n",
            "    return _legacy_load(\n",
            "           ^^^^^^^^^^^^^\n",
            "  File \"/usr/local/lib/python3.11/dist-packages/torch/serialization.py\", line 1628, in _legacy_load\n",
            "    magic_number = pickle_module.load(f, **pickle_load_args)\n",
            "                   ^^^^^^^^^^^^^^^^^^^^^^^^^^^^^^^^^^^^^^^^^\n",
            "_pickle.UnpicklingError: A load persistent id instruction was encountered,\n",
            "but no persistent_load function was specified.\n"
          ]
        }
      ]
    }
  ],
  "metadata": {
    "colab": {
      "provenance": [],
      "gpuType": "T4"
    },
    "kernelspec": {
      "display_name": "Python 3",
      "name": "python3"
    },
    "accelerator": "GPU"
  },
  "nbformat": 4,
  "nbformat_minor": 0
}