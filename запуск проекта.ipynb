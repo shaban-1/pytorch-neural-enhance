{
  "cells": [
    {
      "cell_type": "code",
      "source": [
        "# 1. Клонируем репозиторий\n",
        "!git clone https://github.com/shaban-1/pytorch-neural-enhance.git\n",
        "%cd pytorch-neural-enhance\n",
        "\n",
        "# 2. Устанавливаем зависимости\n",
        "!pip install  rawpy tensorboardX decouple\n",
        "\n",
        "# 3. Фиксируем ошибку PIL (если есть)\n",
        "!sed -i 's/Image.ANTIALIAS/Image.LANCZOS/g' /content/pytorch-neural-enhance/scrape_fivek.py\n",
        "\n",
        "# 4. Создаем директорию для данных\n",
        "!mkdir -p data\n",
        "# 5.\n",
        "!python scrape_fivek.py --base_dir data --limit_number 15\n",
        "# 6.\n",
        "!python main.py --model_type can32 --loss l1nima --data_path data\n",
        "# 7.\n",
        "!python evaluations.py --model_type can32 --image_path /content/pytorch-neural-enhance/data/expert0/0.png --final_dir /content/pytorch-neural-enhance/final_test/"
      ],
      "metadata": {
        "id": "4ctWLYq8XSaf",
        "outputId": "c5c0d3dc-2753-42dd-a3c1-12652266d328",
        "colab": {
          "base_uri": "https://localhost:8080/"
        }
      },
      "execution_count": null,
      "outputs": [
        {
          "output_type": "stream",
          "name": "stdout",
          "text": [
            "Cloning into 'pytorch-neural-enhance'...\n",
            "remote: Enumerating objects: 344, done.\u001b[K\n",
            "remote: Counting objects: 100% (6/6), done.\u001b[K\n",
            "remote: Compressing objects: 100% (6/6), done.\u001b[K\n",
            "remote: Total 344 (delta 0), reused 0 (delta 0), pack-reused 338 (from 1)\u001b[K\n",
            "Receiving objects: 100% (344/344), 371.72 MiB | 16.09 MiB/s, done.\n",
            "Resolving deltas: 100% (163/163), done.\n",
            "/content/pytorch-neural-enhance\n",
            "Requirement already satisfied: rawpy in /usr/local/lib/python3.11/dist-packages (0.24.0)\n",
            "Requirement already satisfied: tensorboardX in /usr/local/lib/python3.11/dist-packages (2.6.2.2)\n",
            "Requirement already satisfied: decouple in /usr/local/lib/python3.11/dist-packages (0.0.7)\n",
            "Requirement already satisfied: numpy>=1.26.0 in /usr/local/lib/python3.11/dist-packages (from rawpy) (1.26.4)\n",
            "Requirement already satisfied: packaging in /usr/local/lib/python3.11/dist-packages (from tensorboardX) (24.2)\n",
            "Requirement already satisfied: protobuf>=3.20 in /usr/local/lib/python3.11/dist-packages (from tensorboardX) (4.25.6)\n"
          ]
        }
      ]
    },
    {
      "cell_type": "code",
      "source": [],
      "metadata": {
        "id": "7875Z6ahp_hR"
      },
      "execution_count": 10,
      "outputs": []
    }
  ],
  "metadata": {
    "colab": {
      "provenance": [],
      "gpuType": "T4"
    },
    "kernelspec": {
      "display_name": "Python 3",
      "name": "python3"
    },
    "accelerator": "GPU"
  },
  "nbformat": 4,
  "nbformat_minor": 0
}